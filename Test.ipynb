{
 "cells": [
  {
   "cell_type": "code",
   "execution_count": 1,
   "id": "f36aa2b6",
   "metadata": {},
   "outputs": [],
   "source": [
    "from qiskit import *\n",
    "from qiskit.visualization import *\n",
    "import numpy as np\n",
    "from qiskit.tools.monitor import *\n",
    "from qiskit.quantum_info import *\n",
    "from qiskit.extensions import *\n",
    "from qiskit_experiments.framework import *\n",
    "from qiskit_experiments.library import *\n",
    "from qiskit.test.mock import *\n",
    "from qiskit.providers.aer import *"
   ]
  },
  {
   "cell_type": "code",
   "execution_count": 2,
   "id": "7a58aab9",
   "metadata": {},
   "outputs": [],
   "source": [
    " sent = Initialize(random_statevector(2))"
   ]
  },
  {
   "cell_type": "code",
   "execution_count": 3,
   "id": "b86da574",
   "metadata": {},
   "outputs": [
    {
     "data": {
      "image/png": "[encoded data removed]",
      "text/plain": [
       "<Figure size 942.378x264.88 with 1 Axes>"
      ]
     },
     "execution_count": 3,
     "metadata": {},
     "output_type": "execute_result"
    }
   ],
   "source": [
    "#measures received state\n",
    "circuit_1 = QuantumCircuit(QuantumRegister(3), ClassicalRegister(3))\n",
    "circuit_1.append(sent, [0])\n",
    "circuit_1.barrier()\n",
    "circuit_1.h(1)\n",
    "circuit_1.cx(1, 2)\n",
    "circuit_1.barrier()\n",
    "circuit_1.cx(0, 1)\n",
    "circuit_1.h(0)\n",
    "circuit_1.measure(0, 0)\n",
    "circuit_1.measure(1, 1)\n",
    "circuit_1.barrier()\n",
    "circuit_1.x(2).c_if(1, 1)\n",
    "circuit_1.z(2).c_if(0, 1)\n",
    "circuit_1.measure(2, 2)\n",
    "circuit_1.draw()"
   ]
  },
  {
   "cell_type": "code",
   "execution_count": 4,
   "id": "78f3f997",
   "metadata": {},
   "outputs": [],
   "source": [
    "provider = IBMQ.load_account()\n",
    "backend = provider.get_backend('ibmq_quito')"
   ]
  },
  {
   "cell_type": "code",
   "execution_count": 5,
   "id": "315b1ef7",
   "metadata": {},
   "outputs": [
    {
     "ename": "IBMQJobFailureError",
     "evalue": "'Unable to retrieve result for job 62f9bfd3658c1c12b381b442. Job has failed: Instruction bfunc is not supported. Error code: 7001.'",
     "output_type": "error",
     "traceback": [
      "\u001b[1;31m---------------------------------------------------------------------------\u001b[0m",
      "\u001b[1;31mIBMQJobFailureError\u001b[0m                       Traceback (most recent call last)",
      "Input \u001b[1;32mIn [5]\u001b[0m, in \u001b[0;36m<cell line: 2>\u001b[1;34m()\u001b[0m\n\u001b[0;32m      1\u001b[0m job_1 \u001b[38;5;241m=\u001b[39m execute(circuit_1, backend \u001b[38;5;241m=\u001b[39m backend, shots \u001b[38;5;241m=\u001b[39m \u001b[38;5;241m1024\u001b[39m)\n\u001b[1;32m----> 2\u001b[0m counts_1 \u001b[38;5;241m=\u001b[39m \u001b[43mjob_1\u001b[49m\u001b[38;5;241;43m.\u001b[39;49m\u001b[43mresult\u001b[49m\u001b[43m(\u001b[49m\u001b[43m)\u001b[49m\u001b[38;5;241m.\u001b[39mget_counts()\n\u001b[0;32m      3\u001b[0m plot_histogram(counts_1)\n",
      "File \u001b[1;32m~\\AppData\\Local\\Packages\\PythonSoftwareFoundation.Python.3.9_qbz5n2kfra8p0\\LocalCache\\local-packages\\Python39\\site-packages\\qiskit\\providers\\ibmq\\job\\ibmqjob.py:290\u001b[0m, in \u001b[0;36mIBMQJob.result\u001b[1;34m(self, timeout, wait, partial, refresh)\u001b[0m\n\u001b[0;32m    288\u001b[0m         \u001b[38;5;28;01melse\u001b[39;00m:\n\u001b[0;32m    289\u001b[0m             error_message \u001b[38;5;241m=\u001b[39m \u001b[38;5;124m\"\u001b[39m\u001b[38;5;124m: \u001b[39m\u001b[38;5;124m\"\u001b[39m \u001b[38;5;241m+\u001b[39m error_message\n\u001b[1;32m--> 290\u001b[0m         \u001b[38;5;28;01mraise\u001b[39;00m IBMQJobFailureError(\n\u001b[0;32m    291\u001b[0m             \u001b[38;5;124m'\u001b[39m\u001b[38;5;124mUnable to retrieve result for job \u001b[39m\u001b[38;5;132;01m{}\u001b[39;00m\u001b[38;5;124m. Job has failed\u001b[39m\u001b[38;5;132;01m{}\u001b[39;00m\u001b[38;5;124m'\u001b[39m\u001b[38;5;241m.\u001b[39mformat(\n\u001b[0;32m    292\u001b[0m                 \u001b[38;5;28mself\u001b[39m\u001b[38;5;241m.\u001b[39mjob_id(), error_message))\n\u001b[0;32m    293\u001b[0m \u001b[38;5;28;01melse\u001b[39;00m:\n\u001b[0;32m    294\u001b[0m     \u001b[38;5;28mself\u001b[39m\u001b[38;5;241m.\u001b[39m_retrieve_result(refresh\u001b[38;5;241m=\u001b[39mrefresh)\n",
      "\u001b[1;31mIBMQJobFailureError\u001b[0m: 'Unable to retrieve result for job 62f9bfd3658c1c12b381b442. Job has failed: Instruction bfunc is not supported. Error code: 7001.'"
     ]
    }
   ],
   "source": [
    "job_1 = execute(circuit_1, backend = backend, shots = 1024)\n",
    "counts_1 = job_1.result().get_counts()\n",
    "plot_histogram(counts_1)"
   ]
  }
 ],
 "metadata": {
  "kernelspec": {
   "display_name": "Python 3 (ipykernel)",
   "language": "python",
   "name": "python3"
  },
  "language_info": {
   "codemirror_mode": {
    "name": "ipython",
    "version": 3
   },
   "file_extension": ".py",
   "mimetype": "text/x-python",
   "name": "python",
   "nbconvert_exporter": "python",
   "pygments_lexer": "ipython3",
   "version": "3.9.13"
  }
 },
 "nbformat": 4,
 "nbformat_minor": 5
}
