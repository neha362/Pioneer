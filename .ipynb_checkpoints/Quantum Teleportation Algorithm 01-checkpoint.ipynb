{
 "cells": [
  {
   "cell_type": "code",
   "execution_count": 1,
   "id": "23e57eb7",
   "metadata": {},
   "outputs": [],
   "source": [
    "from qiskit import *\n",
    "from qiskit.visualization import *\n",
    "import numpy as np\n",
    "from qiskit.tools.monitor import job_monitor\n",
    "from qiskit.quantum_info import random_statevector\n",
    "from qiskit.extensions import Initialize"
   ]
  },
  {
   "cell_type": "code",
   "execution_count": 7,
   "id": "1e142f38",
   "metadata": {},
   "outputs": [
    {
     "data": {
      "image/png": "[encoded data removed]",
      "text/plain": [
       "<Figure size 835.54x264.88 with 1 Axes>"
      ]
     },
     "execution_count": 7,
     "metadata": {},
     "output_type": "execute_result"
    }
   ],
   "source": [
    "qr = QuantumRegister(3)\n",
    "cr = ClassicalRegister(2)\n",
    "qc = QuantumCircuit(qr, cr)\n",
    "qc.barrier()\n",
    "qc.h(1)\n",
    "qc.cx(1, 2)\n",
    "qc.barrier()\n",
    "qc.cx(0, 1)\n",
    "qc.h(0)\n",
    "qc.barrier()\n",
    "qc.measure(qr[0], cr[0])\n",
    "qc.measure(qr[1], cr[1])\n",
    "qc.barrier()\n",
    "qc.x(2).c_if(cr[0], 1)\n",
    "qc.z(2).c_if(cr[1], 1)\n",
    "qc.draw()"
   ]
  },
  {
   "cell_type": "code",
   "execution_count": 4,
   "id": "7579d199",
   "metadata": {},
   "outputs": [],
   "source": [
    "provider = IBMQ.load_account()\n",
    "backend = provider.get_backend('ibmq_quito')"
   ]
  },
  {
   "cell_type": "code",
   "execution_count": 9,
   "id": "12e56188",
   "metadata": {},
   "outputs": [
    {
     "data": {
      "text/plain": [
       "<JobStatus.VALIDATING: 'job is being validated'>"
      ]
     },
     "execution_count": 9,
     "metadata": {},
     "output_type": "execute_result"
    }
   ],
   "source": [
    "mapped_circuit = transpile(qc, backend=backend)\n",
    "qobj = assemble(mapped_circuit, backend=backend, shots=1024)\n",
    "\n",
    "job = backend.run(qobj)\n",
    "job.status()"
   ]
  },
  {
   "cell_type": "code",
   "execution_count": null,
   "id": "4f9f6242",
   "metadata": {},
   "outputs": [],
   "source": [
    "counts = job.result().get_counts()\n",
    "print(counts)\n",
    "plot_histogram(counts)"
   ]
  },
  {
   "cell_type": "code",
   "execution_count": null,
   "id": "1374c802",
   "metadata": {},
   "outputs": [],
   "source": []
  },
  {
   "cell_type": "code",
   "execution_count": null,
   "id": "6be6be72",
   "metadata": {},
   "outputs": [],
   "source": [
    "qc.x(0)\n",
    "qc.z(0)\n",
    "mapped_circuit = transpile(qc, backend = backend)\n",
    "qobj = assemble(mapped_circuit, backend = backend, shots = 1024)\n",
    "job = backend.run(qobj)\n",
    "job.status()"
   ]
  },
  {
   "cell_type": "code",
   "execution_count": null,
   "id": "dbcb0faa",
   "metadata": {},
   "outputs": [],
   "source": []
  }
 ],
 "metadata": {
  "kernelspec": {
   "display_name": "Python 3 (ipykernel)",
   "language": "python",
   "name": "python3"
  },
  "language_info": {
   "codemirror_mode": {
    "name": "ipython",
    "version": 3
   },
   "file_extension": ".py",
   "mimetype": "text/x-python",
   "name": "python",
   "nbconvert_exporter": "python",
   "pygments_lexer": "ipython3",
   "version": "3.9.13"
  }
 },
 "nbformat": 4,
 "nbformat_minor": 5
}
